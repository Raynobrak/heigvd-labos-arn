{
 "cells": [
  {
   "cell_type": "markdown",
   "metadata": {},
   "source": [
    "# ARN - PW3\n",
    "\n",
    "Auteurs : Rémi Ançay & Lucas Charbonnier"
   ]
  },
  {
   "cell_type": "code",
   "execution_count": 6,
   "metadata": {},
   "outputs": [],
   "source": [
    "import pandas as pd\n",
    "\n",
    "# chargement des données\n",
    "\n",
    "mouse_data_1 = pd.read_csv(\"data/EEG_mouse_data_1.csv\")\n",
    "mouse_data_2 = pd.read_csv(\"data/EEG_mouse_data_2.csv\")\n",
    "mouse_data = pd.concat([mouse_data_1, mouse_data_2])\n",
    "\n",
    "test_data = pd.read_csv(\"data/EEG_mouse_data_test.csv\")"
   ]
  },
  {
   "cell_type": "code",
   "execution_count": 7,
   "metadata": {},
   "outputs": [
    {
     "name": "stdout",
     "output_type": "stream",
     "text": [
      "102\n",
      "26\n"
     ]
    }
   ],
   "source": [
    "# sélection des features qui seront gardées\n",
    "\n",
    "print(len(mouse_data.columns))\n",
    "\n",
    "def discard_unwanted_frequencies(dataframe):\n",
    "    discarded_frequencies = range(26, 102)\n",
    "    for freq in discarded_frequencies:\n",
    "        col_name = \"amplitude_around_\" + str(freq) + \"_Hertz\"\n",
    "        dataframe = dataframe.drop(columns=col_name)\n",
    "    return dataframe\n",
    "\n",
    "mouse_data = discard_unwanted_frequencies(mouse_data)\n",
    "test_data = discard_unwanted_frequencies(test_data)\n",
    "\n",
    "# we now have 26 columns : 25 features (frequencies) and 1 result column\n",
    "print(len(mouse_data.columns))"
   ]
  },
  {
   "cell_type": "code",
   "execution_count": 8,
   "metadata": {},
   "outputs": [],
   "source": [
    "from sklearn.preprocessing import StandardScaler\n",
    "\n",
    "# normalisation du dataset\n",
    "scaler = StandardScaler()\n",
    "mouse_data.iloc[:,1:] = scaler.fit_transform(mouse_data.iloc[:,1:])\n",
    "test_data.iloc[:,1:] = scaler.fit_transform(test_data.iloc[:,1:])"
   ]
  },
  {
   "cell_type": "code",
   "execution_count": 1,
   "metadata": {},
   "outputs": [
    {
     "name": "stdout",
     "output_type": "stream",
     "text": [
      "Collecting tensorflow\n",
      "  Using cached tensorflow-2.16.1-cp39-cp39-win_amd64.whl (2.1 kB)\n",
      "Collecting tensorflow-intel==2.16.1\n",
      "  Using cached tensorflow_intel-2.16.1-cp39-cp39-win_amd64.whl (376.9 MB)\n",
      "Requirement already satisfied: absl-py>=1.0.0 in c:\\users\\lcsch\\anaconda3\\envs\\isd\\lib\\site-packages (from tensorflow-intel==2.16.1->tensorflow) (2.1.0)\n",
      "Requirement already satisfied: numpy<2.0.0,>=1.23.5 in c:\\users\\lcsch\\anaconda3\\envs\\isd\\lib\\site-packages (from tensorflow-intel==2.16.1->tensorflow) (1.26.4)\n",
      "Requirement already satisfied: keras>=3.0.0 in c:\\users\\lcsch\\anaconda3\\envs\\isd\\lib\\site-packages (from tensorflow-intel==2.16.1->tensorflow) (3.0.5)\n",
      "Collecting google-pasta>=0.1.1\n",
      "  Using cached google_pasta-0.2.0-py3-none-any.whl (57 kB)\n",
      "Collecting grpcio<2.0,>=1.24.3\n",
      "  Using cached grpcio-1.62.1-cp39-cp39-win_amd64.whl (3.8 MB)\n",
      "Requirement already satisfied: ml-dtypes~=0.3.1 in c:\\users\\lcsch\\anaconda3\\envs\\isd\\lib\\site-packages (from tensorflow-intel==2.16.1->tensorflow) (0.3.2)\n",
      "Requirement already satisfied: protobuf!=4.21.0,!=4.21.1,!=4.21.2,!=4.21.3,!=4.21.4,!=4.21.5,<5.0.0dev,>=3.20.3 in c:\\users\\lcsch\\anaconda3\\envs\\isd\\lib\\site-packages (from tensorflow-intel==2.16.1->tensorflow) (4.25.3)\n",
      "Collecting gast!=0.5.0,!=0.5.1,!=0.5.2,>=0.2.1\n",
      "  Using cached gast-0.5.4-py3-none-any.whl (19 kB)\n",
      "Requirement already satisfied: six>=1.12.0 in c:\\users\\lcsch\\anaconda3\\envs\\isd\\lib\\site-packages (from tensorflow-intel==2.16.1->tensorflow) (1.16.0)\n",
      "Collecting astunparse>=1.6.0\n",
      "  Using cached astunparse-1.6.3-py2.py3-none-any.whl (12 kB)\n",
      "Requirement already satisfied: h5py>=3.10.0 in c:\\users\\lcsch\\anaconda3\\envs\\isd\\lib\\site-packages (from tensorflow-intel==2.16.1->tensorflow) (3.10.0)\n",
      "Requirement already satisfied: termcolor>=1.1.0 in c:\\users\\lcsch\\anaconda3\\envs\\isd\\lib\\site-packages (from tensorflow-intel==2.16.1->tensorflow) (2.4.0)\n",
      "Requirement already satisfied: tensorflow-io-gcs-filesystem>=0.23.1 in c:\\users\\lcsch\\anaconda3\\envs\\isd\\lib\\site-packages (from tensorflow-intel==2.16.1->tensorflow) (0.31.0)\n",
      "Requirement already satisfied: setuptools in c:\\users\\lcsch\\anaconda3\\envs\\isd\\lib\\site-packages (from tensorflow-intel==2.16.1->tensorflow) (63.4.1)\n",
      "Requirement already satisfied: requests<3,>=2.21.0 in c:\\users\\lcsch\\anaconda3\\envs\\isd\\lib\\site-packages (from tensorflow-intel==2.16.1->tensorflow) (2.28.1)\n",
      "Requirement already satisfied: typing-extensions>=3.6.6 in c:\\users\\lcsch\\anaconda3\\envs\\isd\\lib\\site-packages (from tensorflow-intel==2.16.1->tensorflow) (4.3.0)\n",
      "Requirement already satisfied: flatbuffers>=23.5.26 in c:\\users\\lcsch\\anaconda3\\envs\\isd\\lib\\site-packages (from tensorflow-intel==2.16.1->tensorflow) (24.3.7)\n",
      "Requirement already satisfied: libclang>=13.0.0 in c:\\users\\lcsch\\anaconda3\\envs\\isd\\lib\\site-packages (from tensorflow-intel==2.16.1->tensorflow) (16.0.6)\n",
      "Requirement already satisfied: wrapt>=1.11.0 in c:\\users\\lcsch\\anaconda3\\envs\\isd\\lib\\site-packages (from tensorflow-intel==2.16.1->tensorflow) (1.16.0)\n",
      "Requirement already satisfied: packaging in c:\\users\\lcsch\\anaconda3\\envs\\isd\\lib\\site-packages (from tensorflow-intel==2.16.1->tensorflow) (21.3)\n",
      "Collecting opt-einsum>=2.3.2\n",
      "  Using cached opt_einsum-3.3.0-py3-none-any.whl (65 kB)\n",
      "Collecting tensorboard<2.17,>=2.16\n",
      "  Using cached tensorboard-2.16.2-py3-none-any.whl (5.5 MB)\n",
      "Requirement already satisfied: wheel<1.0,>=0.23.0 in c:\\users\\lcsch\\anaconda3\\envs\\isd\\lib\\site-packages (from astunparse>=1.6.0->tensorflow-intel==2.16.1->tensorflow) (0.37.1)\n",
      "Requirement already satisfied: namex in c:\\users\\lcsch\\anaconda3\\envs\\isd\\lib\\site-packages (from keras>=3.0.0->tensorflow-intel==2.16.1->tensorflow) (0.0.7)\n",
      "Requirement already satisfied: dm-tree in c:\\users\\lcsch\\anaconda3\\envs\\isd\\lib\\site-packages (from keras>=3.0.0->tensorflow-intel==2.16.1->tensorflow) (0.1.8)\n",
      "Requirement already satisfied: rich in c:\\users\\lcsch\\anaconda3\\envs\\isd\\lib\\site-packages (from keras>=3.0.0->tensorflow-intel==2.16.1->tensorflow) (13.7.1)\n",
      "Requirement already satisfied: charset-normalizer<3,>=2 in c:\\users\\lcsch\\anaconda3\\envs\\isd\\lib\\site-packages (from requests<3,>=2.21.0->tensorflow-intel==2.16.1->tensorflow) (2.0.4)\n",
      "Requirement already satisfied: urllib3<1.27,>=1.21.1 in c:\\users\\lcsch\\anaconda3\\envs\\isd\\lib\\site-packages (from requests<3,>=2.21.0->tensorflow-intel==2.16.1->tensorflow) (1.26.11)\n",
      "Requirement already satisfied: idna<4,>=2.5 in c:\\users\\lcsch\\anaconda3\\envs\\isd\\lib\\site-packages (from requests<3,>=2.21.0->tensorflow-intel==2.16.1->tensorflow) (3.3)\n",
      "Requirement already satisfied: certifi>=2017.4.17 in c:\\users\\lcsch\\anaconda3\\envs\\isd\\lib\\site-packages (from requests<3,>=2.21.0->tensorflow-intel==2.16.1->tensorflow) (2022.12.7)\n",
      "Collecting markdown>=2.6.8\n",
      "  Using cached Markdown-3.5.2-py3-none-any.whl (103 kB)\n",
      "Requirement already satisfied: tensorboard-data-server<0.8.0,>=0.7.0 in c:\\users\\lcsch\\anaconda3\\envs\\isd\\lib\\site-packages (from tensorboard<2.17,>=2.16->tensorflow-intel==2.16.1->tensorflow) (0.7.2)\n",
      "Requirement already satisfied: werkzeug>=1.0.1 in c:\\users\\lcsch\\anaconda3\\envs\\isd\\lib\\site-packages (from tensorboard<2.17,>=2.16->tensorflow-intel==2.16.1->tensorflow) (3.0.1)\n",
      "Requirement already satisfied: pyparsing!=3.0.5,>=2.0.2 in c:\\users\\lcsch\\anaconda3\\envs\\isd\\lib\\site-packages (from packaging->tensorflow-intel==2.16.1->tensorflow) (3.0.9)\n",
      "Collecting importlib-metadata>=4.4\n",
      "  Using cached importlib_metadata-7.0.2-py3-none-any.whl (24 kB)\n",
      "Requirement already satisfied: MarkupSafe>=2.1.1 in c:\\users\\lcsch\\anaconda3\\envs\\isd\\lib\\site-packages (from werkzeug>=1.0.1->tensorboard<2.17,>=2.16->tensorflow-intel==2.16.1->tensorflow) (2.1.1)\n",
      "Requirement already satisfied: pygments<3.0.0,>=2.13.0 in c:\\users\\lcsch\\anaconda3\\envs\\isd\\lib\\site-packages (from rich->keras>=3.0.0->tensorflow-intel==2.16.1->tensorflow) (2.13.0)\n",
      "Requirement already satisfied: markdown-it-py>=2.2.0 in c:\\users\\lcsch\\anaconda3\\envs\\isd\\lib\\site-packages (from rich->keras>=3.0.0->tensorflow-intel==2.16.1->tensorflow) (3.0.0)\n",
      "Requirement already satisfied: zipp>=0.5 in c:\\users\\lcsch\\anaconda3\\envs\\isd\\lib\\site-packages (from importlib-metadata>=4.4->markdown>=2.6.8->tensorboard<2.17,>=2.16->tensorflow-intel==2.16.1->tensorflow) (3.18.0)\n",
      "Requirement already satisfied: mdurl~=0.1 in c:\\users\\lcsch\\anaconda3\\envs\\isd\\lib\\site-packages (from markdown-it-py>=2.2.0->rich->keras>=3.0.0->tensorflow-intel==2.16.1->tensorflow) (0.1.2)\n",
      "Installing collected packages: opt-einsum, importlib-metadata, grpcio, google-pasta, gast, astunparse, markdown, tensorboard, tensorflow-intel, tensorflow\n",
      "Successfully installed astunparse-1.6.3 gast-0.5.4 google-pasta-0.2.0 grpcio-1.62.1 importlib-metadata-7.0.2 markdown-3.5.2 opt-einsum-3.3.0 tensorboard-2.16.2 tensorflow-2.16.1 tensorflow-intel-2.16.1\n"
     ]
    }
   ],
   "source": [
    "#!pip install keras\n",
    "#!pip install tensorflow"
   ]
  },
  {
   "cell_type": "code",
   "execution_count": 9,
   "metadata": {},
   "outputs": [
    {
     "name": "stdout",
     "output_type": "stream",
     "text": [
      "[    0     2     3 ... 40860 40861 40862] [    1     8    15 ... 40854 40856 40857]\n",
      "[    0     1     4 ... 40859 40860 40862] [    2     3     5 ... 40855 40858 40861]\n",
      "[    1     2     3 ... 40857 40858 40861] [    0     4     6 ... 40859 40860 40862]\n"
     ]
    }
   ],
   "source": [
    "import keras\n",
    "from keras import layers\n",
    "from sklearn.model_selection import KFold\n",
    "\n",
    "# creations de folds pour la validation croisée\n",
    "\n",
    "N_FOLDS = 3\n",
    "\n",
    "keras.utils.set_random_seed(123)\n",
    "kf = KFold(n_splits=N_FOLDS, shuffle=True)\n",
    "\n",
    "# taille totale et taille des folds\n",
    "for i,(train_index, test_index) in enumerate(kf.split(mouse_data)):\n",
    "    print(train_index, test_index)"
   ]
  },
  {
   "cell_type": "code",
   "execution_count": 40,
   "metadata": {},
   "outputs": [
    {
     "data": {
      "text/html": [
       "<pre style=\"white-space:pre;overflow-x:auto;line-height:normal;font-family:Menlo,'DejaVu Sans Mono',consolas,'Courier New',monospace\"><span style=\"font-weight: bold\">Model: \"sequential_26\"</span>\n",
       "</pre>\n"
      ],
      "text/plain": [
       "\u001b[1mModel: \"sequential_26\"\u001b[0m\n"
      ]
     },
     "metadata": {},
     "output_type": "display_data"
    },
    {
     "data": {
      "text/html": [
       "<pre style=\"white-space:pre;overflow-x:auto;line-height:normal;font-family:Menlo,'DejaVu Sans Mono',consolas,'Courier New',monospace\">┏━━━━━━━━━━━━━━━━━━━━━━━━━━━━━━━━━┳━━━━━━━━━━━━━━━━━━━━━━━━┳━━━━━━━━━━━━━━━┓\n",
       "┃<span style=\"font-weight: bold\"> Layer (type)                    </span>┃<span style=\"font-weight: bold\"> Output Shape           </span>┃<span style=\"font-weight: bold\">       Param # </span>┃\n",
       "┡━━━━━━━━━━━━━━━━━━━━━━━━━━━━━━━━━╇━━━━━━━━━━━━━━━━━━━━━━━━╇━━━━━━━━━━━━━━━┩\n",
       "│ dense_36 (<span style=\"color: #0087ff; text-decoration-color: #0087ff\">Dense</span>)                │ (<span style=\"color: #00d7ff; text-decoration-color: #00d7ff\">None</span>, <span style=\"color: #00af00; text-decoration-color: #00af00\">100</span>)            │         <span style=\"color: #00af00; text-decoration-color: #00af00\">2,600</span> │\n",
       "├─────────────────────────────────┼────────────────────────┼───────────────┤\n",
       "│ dense_37 (<span style=\"color: #0087ff; text-decoration-color: #0087ff\">Dense</span>)                │ (<span style=\"color: #00d7ff; text-decoration-color: #00d7ff\">None</span>, <span style=\"color: #00af00; text-decoration-color: #00af00\">100</span>)            │        <span style=\"color: #00af00; text-decoration-color: #00af00\">10,100</span> │\n",
       "├─────────────────────────────────┼────────────────────────┼───────────────┤\n",
       "│ dense_38 (<span style=\"color: #0087ff; text-decoration-color: #0087ff\">Dense</span>)                │ (<span style=\"color: #00d7ff; text-decoration-color: #00d7ff\">None</span>, <span style=\"color: #00af00; text-decoration-color: #00af00\">100</span>)            │        <span style=\"color: #00af00; text-decoration-color: #00af00\">10,100</span> │\n",
       "├─────────────────────────────────┼────────────────────────┼───────────────┤\n",
       "│ dense_39 (<span style=\"color: #0087ff; text-decoration-color: #0087ff\">Dense</span>)                │ (<span style=\"color: #00d7ff; text-decoration-color: #00d7ff\">None</span>, <span style=\"color: #00af00; text-decoration-color: #00af00\">1</span>)              │           <span style=\"color: #00af00; text-decoration-color: #00af00\">101</span> │\n",
       "└─────────────────────────────────┴────────────────────────┴───────────────┘\n",
       "</pre>\n"
      ],
      "text/plain": [
       "┏━━━━━━━━━━━━━━━━━━━━━━━━━━━━━━━━━┳━━━━━━━━━━━━━━━━━━━━━━━━┳━━━━━━━━━━━━━━━┓\n",
       "┃\u001b[1m \u001b[0m\u001b[1mLayer (type)                   \u001b[0m\u001b[1m \u001b[0m┃\u001b[1m \u001b[0m\u001b[1mOutput Shape          \u001b[0m\u001b[1m \u001b[0m┃\u001b[1m \u001b[0m\u001b[1m      Param #\u001b[0m\u001b[1m \u001b[0m┃\n",
       "┡━━━━━━━━━━━━━━━━━━━━━━━━━━━━━━━━━╇━━━━━━━━━━━━━━━━━━━━━━━━╇━━━━━━━━━━━━━━━┩\n",
       "│ dense_36 (\u001b[38;5;33mDense\u001b[0m)                │ (\u001b[38;5;45mNone\u001b[0m, \u001b[38;5;34m100\u001b[0m)            │         \u001b[38;5;34m2,600\u001b[0m │\n",
       "├─────────────────────────────────┼────────────────────────┼───────────────┤\n",
       "│ dense_37 (\u001b[38;5;33mDense\u001b[0m)                │ (\u001b[38;5;45mNone\u001b[0m, \u001b[38;5;34m100\u001b[0m)            │        \u001b[38;5;34m10,100\u001b[0m │\n",
       "├─────────────────────────────────┼────────────────────────┼───────────────┤\n",
       "│ dense_38 (\u001b[38;5;33mDense\u001b[0m)                │ (\u001b[38;5;45mNone\u001b[0m, \u001b[38;5;34m100\u001b[0m)            │        \u001b[38;5;34m10,100\u001b[0m │\n",
       "├─────────────────────────────────┼────────────────────────┼───────────────┤\n",
       "│ dense_39 (\u001b[38;5;33mDense\u001b[0m)                │ (\u001b[38;5;45mNone\u001b[0m, \u001b[38;5;34m1\u001b[0m)              │           \u001b[38;5;34m101\u001b[0m │\n",
       "└─────────────────────────────────┴────────────────────────┴───────────────┘\n"
      ]
     },
     "metadata": {},
     "output_type": "display_data"
    },
    {
     "data": {
      "text/html": [
       "<pre style=\"white-space:pre;overflow-x:auto;line-height:normal;font-family:Menlo,'DejaVu Sans Mono',consolas,'Courier New',monospace\"><span style=\"font-weight: bold\"> Total params: </span><span style=\"color: #00af00; text-decoration-color: #00af00\">22,901</span> (89.46 KB)\n",
       "</pre>\n"
      ],
      "text/plain": [
       "\u001b[1m Total params: \u001b[0m\u001b[38;5;34m22,901\u001b[0m (89.46 KB)\n"
      ]
     },
     "metadata": {},
     "output_type": "display_data"
    },
    {
     "data": {
      "text/html": [
       "<pre style=\"white-space:pre;overflow-x:auto;line-height:normal;font-family:Menlo,'DejaVu Sans Mono',consolas,'Courier New',monospace\"><span style=\"font-weight: bold\"> Trainable params: </span><span style=\"color: #00af00; text-decoration-color: #00af00\">22,901</span> (89.46 KB)\n",
       "</pre>\n"
      ],
      "text/plain": [
       "\u001b[1m Trainable params: \u001b[0m\u001b[38;5;34m22,901\u001b[0m (89.46 KB)\n"
      ]
     },
     "metadata": {},
     "output_type": "display_data"
    },
    {
     "data": {
      "text/html": [
       "<pre style=\"white-space:pre;overflow-x:auto;line-height:normal;font-family:Menlo,'DejaVu Sans Mono',consolas,'Courier New',monospace\"><span style=\"font-weight: bold\"> Non-trainable params: </span><span style=\"color: #00af00; text-decoration-color: #00af00\">0</span> (0.00 B)\n",
       "</pre>\n"
      ],
      "text/plain": [
       "\u001b[1m Non-trainable params: \u001b[0m\u001b[38;5;34m0\u001b[0m (0.00 B)\n"
      ]
     },
     "metadata": {},
     "output_type": "display_data"
    },
    {
     "data": {
      "text/html": [
       "<pre style=\"white-space:pre;overflow-x:auto;line-height:normal;font-family:Menlo,'DejaVu Sans Mono',consolas,'Courier New',monospace\"><span style=\"font-weight: bold\">Model: \"sequential_26\"</span>\n",
       "</pre>\n"
      ],
      "text/plain": [
       "\u001b[1mModel: \"sequential_26\"\u001b[0m\n"
      ]
     },
     "metadata": {},
     "output_type": "display_data"
    },
    {
     "data": {
      "text/html": [
       "<pre style=\"white-space:pre;overflow-x:auto;line-height:normal;font-family:Menlo,'DejaVu Sans Mono',consolas,'Courier New',monospace\">┏━━━━━━━━━━━━━━━━━━━━━━━━━━━━━━━━━┳━━━━━━━━━━━━━━━━━━━━━━━━┳━━━━━━━━━━━━━━━┓\n",
       "┃<span style=\"font-weight: bold\"> Layer (type)                    </span>┃<span style=\"font-weight: bold\"> Output Shape           </span>┃<span style=\"font-weight: bold\">       Param # </span>┃\n",
       "┡━━━━━━━━━━━━━━━━━━━━━━━━━━━━━━━━━╇━━━━━━━━━━━━━━━━━━━━━━━━╇━━━━━━━━━━━━━━━┩\n",
       "│ dense_36 (<span style=\"color: #0087ff; text-decoration-color: #0087ff\">Dense</span>)                │ (<span style=\"color: #00d7ff; text-decoration-color: #00d7ff\">None</span>, <span style=\"color: #00af00; text-decoration-color: #00af00\">100</span>)            │         <span style=\"color: #00af00; text-decoration-color: #00af00\">2,600</span> │\n",
       "├─────────────────────────────────┼────────────────────────┼───────────────┤\n",
       "│ dense_37 (<span style=\"color: #0087ff; text-decoration-color: #0087ff\">Dense</span>)                │ (<span style=\"color: #00d7ff; text-decoration-color: #00d7ff\">None</span>, <span style=\"color: #00af00; text-decoration-color: #00af00\">100</span>)            │        <span style=\"color: #00af00; text-decoration-color: #00af00\">10,100</span> │\n",
       "├─────────────────────────────────┼────────────────────────┼───────────────┤\n",
       "│ dense_38 (<span style=\"color: #0087ff; text-decoration-color: #0087ff\">Dense</span>)                │ (<span style=\"color: #00d7ff; text-decoration-color: #00d7ff\">None</span>, <span style=\"color: #00af00; text-decoration-color: #00af00\">100</span>)            │        <span style=\"color: #00af00; text-decoration-color: #00af00\">10,100</span> │\n",
       "├─────────────────────────────────┼────────────────────────┼───────────────┤\n",
       "│ dense_39 (<span style=\"color: #0087ff; text-decoration-color: #0087ff\">Dense</span>)                │ (<span style=\"color: #00d7ff; text-decoration-color: #00d7ff\">None</span>, <span style=\"color: #00af00; text-decoration-color: #00af00\">1</span>)              │           <span style=\"color: #00af00; text-decoration-color: #00af00\">101</span> │\n",
       "└─────────────────────────────────┴────────────────────────┴───────────────┘\n",
       "</pre>\n"
      ],
      "text/plain": [
       "┏━━━━━━━━━━━━━━━━━━━━━━━━━━━━━━━━━┳━━━━━━━━━━━━━━━━━━━━━━━━┳━━━━━━━━━━━━━━━┓\n",
       "┃\u001b[1m \u001b[0m\u001b[1mLayer (type)                   \u001b[0m\u001b[1m \u001b[0m┃\u001b[1m \u001b[0m\u001b[1mOutput Shape          \u001b[0m\u001b[1m \u001b[0m┃\u001b[1m \u001b[0m\u001b[1m      Param #\u001b[0m\u001b[1m \u001b[0m┃\n",
       "┡━━━━━━━━━━━━━━━━━━━━━━━━━━━━━━━━━╇━━━━━━━━━━━━━━━━━━━━━━━━╇━━━━━━━━━━━━━━━┩\n",
       "│ dense_36 (\u001b[38;5;33mDense\u001b[0m)                │ (\u001b[38;5;45mNone\u001b[0m, \u001b[38;5;34m100\u001b[0m)            │         \u001b[38;5;34m2,600\u001b[0m │\n",
       "├─────────────────────────────────┼────────────────────────┼───────────────┤\n",
       "│ dense_37 (\u001b[38;5;33mDense\u001b[0m)                │ (\u001b[38;5;45mNone\u001b[0m, \u001b[38;5;34m100\u001b[0m)            │        \u001b[38;5;34m10,100\u001b[0m │\n",
       "├─────────────────────────────────┼────────────────────────┼───────────────┤\n",
       "│ dense_38 (\u001b[38;5;33mDense\u001b[0m)                │ (\u001b[38;5;45mNone\u001b[0m, \u001b[38;5;34m100\u001b[0m)            │        \u001b[38;5;34m10,100\u001b[0m │\n",
       "├─────────────────────────────────┼────────────────────────┼───────────────┤\n",
       "│ dense_39 (\u001b[38;5;33mDense\u001b[0m)                │ (\u001b[38;5;45mNone\u001b[0m, \u001b[38;5;34m1\u001b[0m)              │           \u001b[38;5;34m101\u001b[0m │\n",
       "└─────────────────────────────────┴────────────────────────┴───────────────┘\n"
      ]
     },
     "metadata": {},
     "output_type": "display_data"
    },
    {
     "data": {
      "text/html": [
       "<pre style=\"white-space:pre;overflow-x:auto;line-height:normal;font-family:Menlo,'DejaVu Sans Mono',consolas,'Courier New',monospace\"><span style=\"font-weight: bold\"> Total params: </span><span style=\"color: #00af00; text-decoration-color: #00af00\">22,901</span> (89.46 KB)\n",
       "</pre>\n"
      ],
      "text/plain": [
       "\u001b[1m Total params: \u001b[0m\u001b[38;5;34m22,901\u001b[0m (89.46 KB)\n"
      ]
     },
     "metadata": {},
     "output_type": "display_data"
    },
    {
     "data": {
      "text/html": [
       "<pre style=\"white-space:pre;overflow-x:auto;line-height:normal;font-family:Menlo,'DejaVu Sans Mono',consolas,'Courier New',monospace\"><span style=\"font-weight: bold\"> Trainable params: </span><span style=\"color: #00af00; text-decoration-color: #00af00\">22,901</span> (89.46 KB)\n",
       "</pre>\n"
      ],
      "text/plain": [
       "\u001b[1m Trainable params: \u001b[0m\u001b[38;5;34m22,901\u001b[0m (89.46 KB)\n"
      ]
     },
     "metadata": {},
     "output_type": "display_data"
    },
    {
     "data": {
      "text/html": [
       "<pre style=\"white-space:pre;overflow-x:auto;line-height:normal;font-family:Menlo,'DejaVu Sans Mono',consolas,'Courier New',monospace\"><span style=\"font-weight: bold\"> Non-trainable params: </span><span style=\"color: #00af00; text-decoration-color: #00af00\">0</span> (0.00 B)\n",
       "</pre>\n"
      ],
      "text/plain": [
       "\u001b[1m Non-trainable params: \u001b[0m\u001b[38;5;34m0\u001b[0m (0.00 B)\n"
      ]
     },
     "metadata": {},
     "output_type": "display_data"
    }
   ],
   "source": [
    "MODEL_LAYERS = [3]\n",
    "ACTIVATION_FCTN = \"tanh\"\n",
    "LEARNING_RATE = 0.01\n",
    "MOMENTUM = 0.9\n",
    "\n",
    "def create_model():\n",
    "\n",
    "    layers = [keras.Input((25,))]\n",
    "    for layer in MODEL_LAYERS:\n",
    "            layers.append(keras.layers.Dense(layer, activation=ACTIVATION_FCTN))\n",
    "    layers.append(keras.layers.Dense(1,activation=ACTIVATION_FCTN))\n",
    "\n",
    "    mlp = keras.Sequential(layers)\n",
    "\n",
    "    mlp.compile(\n",
    "        optimizer=keras.optimizers.SGD(learning_rate=LEARNING_RATE, momentum=MOMENTUM),\n",
    "        loss=\"mse\"\n",
    "    )\n",
    "    return mlp\n",
    "\n",
    "model = create_model()\n",
    "\n",
    "model.summary()"
   ]
  },
  {
   "cell_type": "code",
   "execution_count": 48,
   "metadata": {},
   "outputs": [
    {
     "data": {
      "text/html": [
       "<pre style=\"white-space:pre;overflow-x:auto;line-height:normal;font-family:Menlo,'DejaVu Sans Mono',consolas,'Courier New',monospace\"><span style=\"font-weight: bold\">Model: \"sequential_32\"</span>\n",
       "</pre>\n"
      ],
      "text/plain": [
       "\u001b[1mModel: \"sequential_32\"\u001b[0m\n"
      ]
     },
     "metadata": {},
     "output_type": "display_data"
    },
    {
     "data": {
      "text/html": [
       "<pre style=\"white-space:pre;overflow-x:auto;line-height:normal;font-family:Menlo,'DejaVu Sans Mono',consolas,'Courier New',monospace\">┏━━━━━━━━━━━━━━━━━━━━━━━━━━━━━━━━━┳━━━━━━━━━━━━━━━━━━━━━━━━┳━━━━━━━━━━━━━━━┓\n",
       "┃<span style=\"font-weight: bold\"> Layer (type)                    </span>┃<span style=\"font-weight: bold\"> Output Shape           </span>┃<span style=\"font-weight: bold\">       Param # </span>┃\n",
       "┡━━━━━━━━━━━━━━━━━━━━━━━━━━━━━━━━━╇━━━━━━━━━━━━━━━━━━━━━━━━╇━━━━━━━━━━━━━━━┩\n",
       "│ dense_60 (<span style=\"color: #0087ff; text-decoration-color: #0087ff\">Dense</span>)                │ (<span style=\"color: #00d7ff; text-decoration-color: #00d7ff\">None</span>, <span style=\"color: #00af00; text-decoration-color: #00af00\">100</span>)            │         <span style=\"color: #00af00; text-decoration-color: #00af00\">2,600</span> │\n",
       "├─────────────────────────────────┼────────────────────────┼───────────────┤\n",
       "│ dense_61 (<span style=\"color: #0087ff; text-decoration-color: #0087ff\">Dense</span>)                │ (<span style=\"color: #00d7ff; text-decoration-color: #00d7ff\">None</span>, <span style=\"color: #00af00; text-decoration-color: #00af00\">100</span>)            │        <span style=\"color: #00af00; text-decoration-color: #00af00\">10,100</span> │\n",
       "├─────────────────────────────────┼────────────────────────┼───────────────┤\n",
       "│ dense_62 (<span style=\"color: #0087ff; text-decoration-color: #0087ff\">Dense</span>)                │ (<span style=\"color: #00d7ff; text-decoration-color: #00d7ff\">None</span>, <span style=\"color: #00af00; text-decoration-color: #00af00\">100</span>)            │        <span style=\"color: #00af00; text-decoration-color: #00af00\">10,100</span> │\n",
       "├─────────────────────────────────┼────────────────────────┼───────────────┤\n",
       "│ dense_63 (<span style=\"color: #0087ff; text-decoration-color: #0087ff\">Dense</span>)                │ (<span style=\"color: #00d7ff; text-decoration-color: #00d7ff\">None</span>, <span style=\"color: #00af00; text-decoration-color: #00af00\">1</span>)              │           <span style=\"color: #00af00; text-decoration-color: #00af00\">101</span> │\n",
       "└─────────────────────────────────┴────────────────────────┴───────────────┘\n",
       "</pre>\n"
      ],
      "text/plain": [
       "┏━━━━━━━━━━━━━━━━━━━━━━━━━━━━━━━━━┳━━━━━━━━━━━━━━━━━━━━━━━━┳━━━━━━━━━━━━━━━┓\n",
       "┃\u001b[1m \u001b[0m\u001b[1mLayer (type)                   \u001b[0m\u001b[1m \u001b[0m┃\u001b[1m \u001b[0m\u001b[1mOutput Shape          \u001b[0m\u001b[1m \u001b[0m┃\u001b[1m \u001b[0m\u001b[1m      Param #\u001b[0m\u001b[1m \u001b[0m┃\n",
       "┡━━━━━━━━━━━━━━━━━━━━━━━━━━━━━━━━━╇━━━━━━━━━━━━━━━━━━━━━━━━╇━━━━━━━━━━━━━━━┩\n",
       "│ dense_60 (\u001b[38;5;33mDense\u001b[0m)                │ (\u001b[38;5;45mNone\u001b[0m, \u001b[38;5;34m100\u001b[0m)            │         \u001b[38;5;34m2,600\u001b[0m │\n",
       "├─────────────────────────────────┼────────────────────────┼───────────────┤\n",
       "│ dense_61 (\u001b[38;5;33mDense\u001b[0m)                │ (\u001b[38;5;45mNone\u001b[0m, \u001b[38;5;34m100\u001b[0m)            │        \u001b[38;5;34m10,100\u001b[0m │\n",
       "├─────────────────────────────────┼────────────────────────┼───────────────┤\n",
       "│ dense_62 (\u001b[38;5;33mDense\u001b[0m)                │ (\u001b[38;5;45mNone\u001b[0m, \u001b[38;5;34m100\u001b[0m)            │        \u001b[38;5;34m10,100\u001b[0m │\n",
       "├─────────────────────────────────┼────────────────────────┼───────────────┤\n",
       "│ dense_63 (\u001b[38;5;33mDense\u001b[0m)                │ (\u001b[38;5;45mNone\u001b[0m, \u001b[38;5;34m1\u001b[0m)              │           \u001b[38;5;34m101\u001b[0m │\n",
       "└─────────────────────────────────┴────────────────────────┴───────────────┘\n"
      ]
     },
     "metadata": {},
     "output_type": "display_data"
    },
    {
     "data": {
      "text/html": [
       "<pre style=\"white-space:pre;overflow-x:auto;line-height:normal;font-family:Menlo,'DejaVu Sans Mono',consolas,'Courier New',monospace\"><span style=\"font-weight: bold\"> Total params: </span><span style=\"color: #00af00; text-decoration-color: #00af00\">22,901</span> (89.46 KB)\n",
       "</pre>\n"
      ],
      "text/plain": [
       "\u001b[1m Total params: \u001b[0m\u001b[38;5;34m22,901\u001b[0m (89.46 KB)\n"
      ]
     },
     "metadata": {},
     "output_type": "display_data"
    },
    {
     "data": {
      "text/html": [
       "<pre style=\"white-space:pre;overflow-x:auto;line-height:normal;font-family:Menlo,'DejaVu Sans Mono',consolas,'Courier New',monospace\"><span style=\"font-weight: bold\"> Trainable params: </span><span style=\"color: #00af00; text-decoration-color: #00af00\">22,901</span> (89.46 KB)\n",
       "</pre>\n"
      ],
      "text/plain": [
       "\u001b[1m Trainable params: \u001b[0m\u001b[38;5;34m22,901\u001b[0m (89.46 KB)\n"
      ]
     },
     "metadata": {},
     "output_type": "display_data"
    },
    {
     "data": {
      "text/html": [
       "<pre style=\"white-space:pre;overflow-x:auto;line-height:normal;font-family:Menlo,'DejaVu Sans Mono',consolas,'Courier New',monospace\"><span style=\"font-weight: bold\"> Non-trainable params: </span><span style=\"color: #00af00; text-decoration-color: #00af00\">0</span> (0.00 B)\n",
       "</pre>\n"
      ],
      "text/plain": [
       "\u001b[1m Non-trainable params: \u001b[0m\u001b[38;5;34m0\u001b[0m (0.00 B)\n"
      ]
     },
     "metadata": {},
     "output_type": "display_data"
    },
    {
     "name": "stdout",
     "output_type": "stream",
     "text": [
      "Epoch 1/100\n"
     ]
    },
    {
     "ename": "UnimplementedError",
     "evalue": "Graph execution error:\n\nDetected at node compile_loss/mse/Cast defined at (most recent call last):\n  File \"c:\\Users\\lcsch\\anaconda3\\envs\\isd\\lib\\runpy.py\", line 197, in _run_module_as_main\n\n  File \"c:\\Users\\lcsch\\anaconda3\\envs\\isd\\lib\\runpy.py\", line 87, in _run_code\n\n  File \"c:\\Users\\lcsch\\anaconda3\\envs\\isd\\lib\\site-packages\\ipykernel_launcher.py\", line 17, in <module>\n\n  File \"c:\\Users\\lcsch\\anaconda3\\envs\\isd\\lib\\site-packages\\traitlets\\config\\application.py\", line 846, in launch_instance\n\n  File \"c:\\Users\\lcsch\\anaconda3\\envs\\isd\\lib\\site-packages\\ipykernel\\kernelapp.py\", line 712, in start\n\n  File \"c:\\Users\\lcsch\\anaconda3\\envs\\isd\\lib\\site-packages\\tornado\\platform\\asyncio.py\", line 215, in start\n\n  File \"c:\\Users\\lcsch\\anaconda3\\envs\\isd\\lib\\asyncio\\base_events.py\", line 601, in run_forever\n\n  File \"c:\\Users\\lcsch\\anaconda3\\envs\\isd\\lib\\asyncio\\base_events.py\", line 1905, in _run_once\n\n  File \"c:\\Users\\lcsch\\anaconda3\\envs\\isd\\lib\\asyncio\\events.py\", line 80, in _run\n\n  File \"c:\\Users\\lcsch\\anaconda3\\envs\\isd\\lib\\site-packages\\ipykernel\\kernelbase.py\", line 510, in dispatch_queue\n\n  File \"c:\\Users\\lcsch\\anaconda3\\envs\\isd\\lib\\site-packages\\ipykernel\\kernelbase.py\", line 499, in process_one\n\n  File \"c:\\Users\\lcsch\\anaconda3\\envs\\isd\\lib\\site-packages\\ipykernel\\kernelbase.py\", line 406, in dispatch_shell\n\n  File \"c:\\Users\\lcsch\\anaconda3\\envs\\isd\\lib\\site-packages\\ipykernel\\kernelbase.py\", line 730, in execute_request\n\n  File \"c:\\Users\\lcsch\\anaconda3\\envs\\isd\\lib\\site-packages\\ipykernel\\ipkernel.py\", line 383, in do_execute\n\n  File \"c:\\Users\\lcsch\\anaconda3\\envs\\isd\\lib\\site-packages\\ipykernel\\zmqshell.py\", line 528, in run_cell\n\n  File \"c:\\Users\\lcsch\\anaconda3\\envs\\isd\\lib\\site-packages\\IPython\\core\\interactiveshell.py\", line 2881, in run_cell\n\n  File \"c:\\Users\\lcsch\\anaconda3\\envs\\isd\\lib\\site-packages\\IPython\\core\\interactiveshell.py\", line 2936, in _run_cell\n\n  File \"c:\\Users\\lcsch\\anaconda3\\envs\\isd\\lib\\site-packages\\IPython\\core\\async_helpers.py\", line 129, in _pseudo_sync_runner\n\n  File \"c:\\Users\\lcsch\\anaconda3\\envs\\isd\\lib\\site-packages\\IPython\\core\\interactiveshell.py\", line 3135, in run_cell_async\n\n  File \"c:\\Users\\lcsch\\anaconda3\\envs\\isd\\lib\\site-packages\\IPython\\core\\interactiveshell.py\", line 3338, in run_ast_nodes\n\n  File \"c:\\Users\\lcsch\\anaconda3\\envs\\isd\\lib\\site-packages\\IPython\\core\\interactiveshell.py\", line 3398, in run_code\n\n  File \"C:\\Users\\lcsch\\AppData\\Local\\Temp\\ipykernel_22068\\348533982.py\", line 9, in <cell line: 7>\n\n  File \"c:\\Users\\lcsch\\anaconda3\\envs\\isd\\lib\\site-packages\\keras\\src\\utils\\traceback_utils.py\", line 118, in error_handler\n\n  File \"c:\\Users\\lcsch\\anaconda3\\envs\\isd\\lib\\site-packages\\keras\\src\\backend\\tensorflow\\trainer.py\", line 323, in fit\n\n  File \"c:\\Users\\lcsch\\anaconda3\\envs\\isd\\lib\\site-packages\\keras\\src\\backend\\tensorflow\\trainer.py\", line 117, in one_step_on_iterator\n\n  File \"c:\\Users\\lcsch\\anaconda3\\envs\\isd\\lib\\site-packages\\keras\\src\\backend\\tensorflow\\trainer.py\", line 105, in one_step_on_data\n\n  File \"c:\\Users\\lcsch\\anaconda3\\envs\\isd\\lib\\site-packages\\keras\\src\\backend\\tensorflow\\trainer.py\", line 59, in train_step\n\n  File \"c:\\Users\\lcsch\\anaconda3\\envs\\isd\\lib\\site-packages\\keras\\src\\trainers\\trainer.py\", line 321, in compute_loss\n\n  File \"c:\\Users\\lcsch\\anaconda3\\envs\\isd\\lib\\site-packages\\keras\\src\\trainers\\compile_utils.py\", line 606, in __call__\n\n  File \"c:\\Users\\lcsch\\anaconda3\\envs\\isd\\lib\\site-packages\\keras\\src\\trainers\\compile_utils.py\", line 642, in call\n\n  File \"c:\\Users\\lcsch\\anaconda3\\envs\\isd\\lib\\site-packages\\keras\\src\\losses\\loss.py\", line 39, in __call__\n\n  File \"c:\\Users\\lcsch\\anaconda3\\envs\\isd\\lib\\site-packages\\tree\\__init__.py\", line 435, in map_structure\n\n  File \"c:\\Users\\lcsch\\anaconda3\\envs\\isd\\lib\\site-packages\\tree\\__init__.py\", line 435, in <listcomp>\n\n  File \"c:\\Users\\lcsch\\anaconda3\\envs\\isd\\lib\\site-packages\\keras\\src\\losses\\loss.py\", line 40, in <lambda>\n\n  File \"c:\\Users\\lcsch\\anaconda3\\envs\\isd\\lib\\site-packages\\keras\\src\\ops\\core.py\", line 493, in convert_to_tensor\n\n  File \"c:\\Users\\lcsch\\anaconda3\\envs\\isd\\lib\\site-packages\\keras\\src\\backend\\tensorflow\\core.py\", line 117, in convert_to_tensor\n\nCast string to float is not supported\n\t [[{{node compile_loss/mse/Cast}}]] [Op:__inference_one_step_on_iterator_1627]",
     "output_type": "error",
     "traceback": [
      "\u001b[1;31m---------------------------------------------------------------------------\u001b[0m",
      "\u001b[1;31mUnimplementedError\u001b[0m                        Traceback (most recent call last)",
      "Input \u001b[1;32mIn [48]\u001b[0m, in \u001b[0;36m<cell line: 7>\u001b[1;34m()\u001b[0m\n\u001b[0;32m      7\u001b[0m \u001b[38;5;28;01mfor\u001b[39;00m i,(train_idx, test_idx) \u001b[38;5;129;01min\u001b[39;00m \u001b[38;5;28menumerate\u001b[39m(kf\u001b[38;5;241m.\u001b[39msplit(mouse_data)) :\n\u001b[0;32m      8\u001b[0m     mlp \u001b[38;5;241m=\u001b[39m create_model()\n\u001b[1;32m----> 9\u001b[0m     history \u001b[38;5;241m=\u001b[39m \u001b[43mmlp\u001b[49m\u001b[38;5;241;43m.\u001b[39;49m\u001b[43mfit\u001b[49m\u001b[43m(\u001b[49m\n\u001b[0;32m     10\u001b[0m \u001b[43m        \u001b[49m\u001b[43mx\u001b[49m\u001b[38;5;241;43m=\u001b[39;49m\u001b[43minput_data\u001b[49m\u001b[38;5;241;43m.\u001b[39;49m\u001b[43miloc\u001b[49m\u001b[43m[\u001b[49m\u001b[43mtrain_idx\u001b[49m\u001b[43m]\u001b[49m\u001b[43m,\u001b[49m\u001b[43m \u001b[49m\u001b[43my\u001b[49m\u001b[38;5;241;43m=\u001b[39;49m\u001b[43moutput_data\u001b[49m\u001b[38;5;241;43m.\u001b[39;49m\u001b[43miloc\u001b[49m\u001b[43m[\u001b[49m\u001b[43mtrain_idx\u001b[49m\u001b[43m]\u001b[49m\u001b[43m,\u001b[49m\n\u001b[0;32m     11\u001b[0m \u001b[43m        \u001b[49m\u001b[43mvalidation_data\u001b[49m\u001b[38;5;241;43m=\u001b[39;49m\u001b[43m(\u001b[49m\u001b[43minput_data\u001b[49m\u001b[38;5;241;43m.\u001b[39;49m\u001b[43miloc\u001b[49m\u001b[43m[\u001b[49m\u001b[43mtest_idx\u001b[49m\u001b[43m]\u001b[49m\u001b[43m,\u001b[49m\u001b[43m \u001b[49m\u001b[43moutput_data\u001b[49m\u001b[38;5;241;43m.\u001b[39;49m\u001b[43miloc\u001b[49m\u001b[43m[\u001b[49m\u001b[43mtest_idx\u001b[49m\u001b[43m]\u001b[49m\u001b[43m)\u001b[49m\u001b[43m,\u001b[49m\n\u001b[0;32m     12\u001b[0m \u001b[43m        \u001b[49m\u001b[43mepochs\u001b[49m\u001b[38;5;241;43m=\u001b[39;49m\u001b[38;5;241;43m100\u001b[39;49m\n\u001b[0;32m     13\u001b[0m \u001b[43m    \u001b[49m\u001b[43m)\u001b[49m\n\u001b[0;32m     15\u001b[0m     history_list\u001b[38;5;241m.\u001b[39mappend(history)\n\u001b[0;32m     16\u001b[0m     trained_mlp\u001b[38;5;241m.\u001b[39mappend(mlp)\n",
      "File \u001b[1;32mc:\\Users\\lcsch\\anaconda3\\envs\\isd\\lib\\site-packages\\keras\\src\\utils\\traceback_utils.py:123\u001b[0m, in \u001b[0;36mfilter_traceback.<locals>.error_handler\u001b[1;34m(*args, **kwargs)\u001b[0m\n\u001b[0;32m    120\u001b[0m     filtered_tb \u001b[38;5;241m=\u001b[39m _process_traceback_frames(e\u001b[38;5;241m.\u001b[39m__traceback__)\n\u001b[0;32m    121\u001b[0m     \u001b[38;5;66;03m# To get the full stack trace, call:\u001b[39;00m\n\u001b[0;32m    122\u001b[0m     \u001b[38;5;66;03m# `keras.config.disable_traceback_filtering()`\u001b[39;00m\n\u001b[1;32m--> 123\u001b[0m     \u001b[38;5;28;01mraise\u001b[39;00m e\u001b[38;5;241m.\u001b[39mwith_traceback(filtered_tb) \u001b[38;5;28;01mfrom\u001b[39;00m \u001b[38;5;28mNone\u001b[39m\n\u001b[0;32m    124\u001b[0m \u001b[38;5;28;01mfinally\u001b[39;00m:\n\u001b[0;32m    125\u001b[0m     \u001b[38;5;28;01mdel\u001b[39;00m filtered_tb\n",
      "File \u001b[1;32mc:\\Users\\lcsch\\anaconda3\\envs\\isd\\lib\\site-packages\\tensorflow\\python\\eager\\execute.py:53\u001b[0m, in \u001b[0;36mquick_execute\u001b[1;34m(op_name, num_outputs, inputs, attrs, ctx, name)\u001b[0m\n\u001b[0;32m     51\u001b[0m \u001b[38;5;28;01mtry\u001b[39;00m:\n\u001b[0;32m     52\u001b[0m   ctx\u001b[38;5;241m.\u001b[39mensure_initialized()\n\u001b[1;32m---> 53\u001b[0m   tensors \u001b[38;5;241m=\u001b[39m pywrap_tfe\u001b[38;5;241m.\u001b[39mTFE_Py_Execute(ctx\u001b[38;5;241m.\u001b[39m_handle, device_name, op_name,\n\u001b[0;32m     54\u001b[0m                                       inputs, attrs, num_outputs)\n\u001b[0;32m     55\u001b[0m \u001b[38;5;28;01mexcept\u001b[39;00m core\u001b[38;5;241m.\u001b[39m_NotOkStatusException \u001b[38;5;28;01mas\u001b[39;00m e:\n\u001b[0;32m     56\u001b[0m   \u001b[38;5;28;01mif\u001b[39;00m name \u001b[38;5;129;01mis\u001b[39;00m \u001b[38;5;129;01mnot\u001b[39;00m \u001b[38;5;28;01mNone\u001b[39;00m:\n",
      "\u001b[1;31mUnimplementedError\u001b[0m: Graph execution error:\n\nDetected at node compile_loss/mse/Cast defined at (most recent call last):\n  File \"c:\\Users\\lcsch\\anaconda3\\envs\\isd\\lib\\runpy.py\", line 197, in _run_module_as_main\n\n  File \"c:\\Users\\lcsch\\anaconda3\\envs\\isd\\lib\\runpy.py\", line 87, in _run_code\n\n  File \"c:\\Users\\lcsch\\anaconda3\\envs\\isd\\lib\\site-packages\\ipykernel_launcher.py\", line 17, in <module>\n\n  File \"c:\\Users\\lcsch\\anaconda3\\envs\\isd\\lib\\site-packages\\traitlets\\config\\application.py\", line 846, in launch_instance\n\n  File \"c:\\Users\\lcsch\\anaconda3\\envs\\isd\\lib\\site-packages\\ipykernel\\kernelapp.py\", line 712, in start\n\n  File \"c:\\Users\\lcsch\\anaconda3\\envs\\isd\\lib\\site-packages\\tornado\\platform\\asyncio.py\", line 215, in start\n\n  File \"c:\\Users\\lcsch\\anaconda3\\envs\\isd\\lib\\asyncio\\base_events.py\", line 601, in run_forever\n\n  File \"c:\\Users\\lcsch\\anaconda3\\envs\\isd\\lib\\asyncio\\base_events.py\", line 1905, in _run_once\n\n  File \"c:\\Users\\lcsch\\anaconda3\\envs\\isd\\lib\\asyncio\\events.py\", line 80, in _run\n\n  File \"c:\\Users\\lcsch\\anaconda3\\envs\\isd\\lib\\site-packages\\ipykernel\\kernelbase.py\", line 510, in dispatch_queue\n\n  File \"c:\\Users\\lcsch\\anaconda3\\envs\\isd\\lib\\site-packages\\ipykernel\\kernelbase.py\", line 499, in process_one\n\n  File \"c:\\Users\\lcsch\\anaconda3\\envs\\isd\\lib\\site-packages\\ipykernel\\kernelbase.py\", line 406, in dispatch_shell\n\n  File \"c:\\Users\\lcsch\\anaconda3\\envs\\isd\\lib\\site-packages\\ipykernel\\kernelbase.py\", line 730, in execute_request\n\n  File \"c:\\Users\\lcsch\\anaconda3\\envs\\isd\\lib\\site-packages\\ipykernel\\ipkernel.py\", line 383, in do_execute\n\n  File \"c:\\Users\\lcsch\\anaconda3\\envs\\isd\\lib\\site-packages\\ipykernel\\zmqshell.py\", line 528, in run_cell\n\n  File \"c:\\Users\\lcsch\\anaconda3\\envs\\isd\\lib\\site-packages\\IPython\\core\\interactiveshell.py\", line 2881, in run_cell\n\n  File \"c:\\Users\\lcsch\\anaconda3\\envs\\isd\\lib\\site-packages\\IPython\\core\\interactiveshell.py\", line 2936, in _run_cell\n\n  File \"c:\\Users\\lcsch\\anaconda3\\envs\\isd\\lib\\site-packages\\IPython\\core\\async_helpers.py\", line 129, in _pseudo_sync_runner\n\n  File \"c:\\Users\\lcsch\\anaconda3\\envs\\isd\\lib\\site-packages\\IPython\\core\\interactiveshell.py\", line 3135, in run_cell_async\n\n  File \"c:\\Users\\lcsch\\anaconda3\\envs\\isd\\lib\\site-packages\\IPython\\core\\interactiveshell.py\", line 3338, in run_ast_nodes\n\n  File \"c:\\Users\\lcsch\\anaconda3\\envs\\isd\\lib\\site-packages\\IPython\\core\\interactiveshell.py\", line 3398, in run_code\n\n  File \"C:\\Users\\lcsch\\AppData\\Local\\Temp\\ipykernel_22068\\348533982.py\", line 9, in <cell line: 7>\n\n  File \"c:\\Users\\lcsch\\anaconda3\\envs\\isd\\lib\\site-packages\\keras\\src\\utils\\traceback_utils.py\", line 118, in error_handler\n\n  File \"c:\\Users\\lcsch\\anaconda3\\envs\\isd\\lib\\site-packages\\keras\\src\\backend\\tensorflow\\trainer.py\", line 323, in fit\n\n  File \"c:\\Users\\lcsch\\anaconda3\\envs\\isd\\lib\\site-packages\\keras\\src\\backend\\tensorflow\\trainer.py\", line 117, in one_step_on_iterator\n\n  File \"c:\\Users\\lcsch\\anaconda3\\envs\\isd\\lib\\site-packages\\keras\\src\\backend\\tensorflow\\trainer.py\", line 105, in one_step_on_data\n\n  File \"c:\\Users\\lcsch\\anaconda3\\envs\\isd\\lib\\site-packages\\keras\\src\\backend\\tensorflow\\trainer.py\", line 59, in train_step\n\n  File \"c:\\Users\\lcsch\\anaconda3\\envs\\isd\\lib\\site-packages\\keras\\src\\trainers\\trainer.py\", line 321, in compute_loss\n\n  File \"c:\\Users\\lcsch\\anaconda3\\envs\\isd\\lib\\site-packages\\keras\\src\\trainers\\compile_utils.py\", line 606, in __call__\n\n  File \"c:\\Users\\lcsch\\anaconda3\\envs\\isd\\lib\\site-packages\\keras\\src\\trainers\\compile_utils.py\", line 642, in call\n\n  File \"c:\\Users\\lcsch\\anaconda3\\envs\\isd\\lib\\site-packages\\keras\\src\\losses\\loss.py\", line 39, in __call__\n\n  File \"c:\\Users\\lcsch\\anaconda3\\envs\\isd\\lib\\site-packages\\tree\\__init__.py\", line 435, in map_structure\n\n  File \"c:\\Users\\lcsch\\anaconda3\\envs\\isd\\lib\\site-packages\\tree\\__init__.py\", line 435, in <listcomp>\n\n  File \"c:\\Users\\lcsch\\anaconda3\\envs\\isd\\lib\\site-packages\\keras\\src\\losses\\loss.py\", line 40, in <lambda>\n\n  File \"c:\\Users\\lcsch\\anaconda3\\envs\\isd\\lib\\site-packages\\keras\\src\\ops\\core.py\", line 493, in convert_to_tensor\n\n  File \"c:\\Users\\lcsch\\anaconda3\\envs\\isd\\lib\\site-packages\\keras\\src\\backend\\tensorflow\\core.py\", line 117, in convert_to_tensor\n\nCast string to float is not supported\n\t [[{{node compile_loss/mse/Cast}}]] [Op:__inference_one_step_on_iterator_1627]"
     ]
    }
   ],
   "source": [
    "input_data = mouse_data.drop(columns='state')\n",
    "output_data = mouse_data['state']\n",
    "\n",
    "history_list = []\n",
    "trained_mlp = []\n",
    "\n",
    "for i,(train_idx, test_idx) in enumerate(kf.split(mouse_data)) :\n",
    "    mlp = create_model()\n",
    "    history = mlp.fit(\n",
    "        x=input_data.iloc[train_idx], y=output_data.iloc[train_idx],\n",
    "        validation_data=(input_data.iloc[test_idx], output_data.iloc[test_idx]),\n",
    "        epochs=100\n",
    "    )\n",
    "\n",
    "    history_list.append(history)\n",
    "    trained_mlp.append(mlp)\n",
    "\n",
    "    ## todo:\n",
    "    ## t'as capté, on a la flemme de continuer\n",
    "    ## en gros le problème c ke dan aoutput c'est des n-rem rem ou awake et nous notre mlp il retourne -1 ou 1 donc faut changer tout ça voilà a+\n",
    "\n"
   ]
  }
 ],
 "metadata": {
  "kernelspec": {
   "display_name": "isd",
   "language": "python",
   "name": "python3"
  },
  "language_info": {
   "codemirror_mode": {
    "name": "ipython",
    "version": 3
   },
   "file_extension": ".py",
   "mimetype": "text/x-python",
   "name": "python",
   "nbconvert_exporter": "python",
   "pygments_lexer": "ipython3",
   "version": "3.9.13"
  }
 },
 "nbformat": 4,
 "nbformat_minor": 2
}
